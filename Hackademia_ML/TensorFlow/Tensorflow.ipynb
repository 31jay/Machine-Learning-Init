{
 "cells": [
  {
   "cell_type": "code",
   "execution_count": 10,
   "metadata": {},
   "outputs": [],
   "source": [
    "import numpy as np\n",
    "import tensorflow as tf\n",
    "import os\n",
    "from sklearn.model_selection import train_test_split\n",
    "from PIL import Image\n",
    "import EfficientNet "
   ]
  },
  {
   "cell_type": "code",
   "execution_count": null,
   "metadata": {},
   "outputs": [],
   "source": [
    "\n",
    "\n",
    "def convert_image_to_tensor(path):\n",
    "    img = Image.open(path)\n",
    "    img = img.resize((224, 224))\n",
    "    img = np.array(img)\n",
    "    \n",
    "    return img\n",
    "\n",
    "images_list  = []\n",
    "labels_list = []\n",
    "labels_map = {}\n",
    "label_val = 0\n",
    "i = 'data_1/natural_images/'\n",
    "for folder in os.listdir(i):\n",
    "    labels_map[label_val] = folder\n",
    "    for file in os.listdir(i + folder):\n",
    "        images_list.append(i + folder + '/' + file)\n",
    "        labels_list.append(label_val)\n",
    "    label_val += 1\n",
    "    \n",
    "labels_map\n"
   ]
  },
  {
   "cell_type": "code",
   "execution_count": null,
   "metadata": {},
   "outputs": [],
   "source": [
    "print(len(images_list), len(labels_list))\n",
    "layers = tf.keras.layers.CategoryEncoding(num_tokens=len(labels_map), output_mode='one_hot')\n",
    "\n",
    "\n",
    "X,Xtest,Y,Ytest = train_test_split(images_list,labels_list)"
   ]
  },
  {
   "cell_type": "code",
   "execution_count": null,
   "metadata": {},
   "outputs": [],
   "source": [
    "imput_val = tf.keras.Input(shape=(224, 224, 3))\n",
    "model = EfficientNetB0(include_top=False, input_tensor=imput_val, weights='imagenet')\n",
    "\n",
    "for i in range(int(len(model.layers)*0.75)):\n",
    "    x = tf.keras.layers.GlobalAveragePooling2D(name = \"avg_pool\")(model.output)"
   ]
  }
 ],
 "metadata": {
  "kernelspec": {
   "display_name": "base",
   "language": "python",
   "name": "python3"
  },
  "language_info": {
   "codemirror_mode": {
    "name": "ipython",
    "version": 3
   },
   "file_extension": ".py",
   "mimetype": "text/x-python",
   "name": "python",
   "nbconvert_exporter": "python",
   "pygments_lexer": "ipython3",
   "version": "3.12.4"
  }
 },
 "nbformat": 4,
 "nbformat_minor": 2
}
