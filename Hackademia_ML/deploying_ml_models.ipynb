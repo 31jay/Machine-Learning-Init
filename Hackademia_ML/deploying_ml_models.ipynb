{
 "cells": [
  {
   "cell_type": "code",
   "execution_count": 1,
   "metadata": {},
   "outputs": [
    {
     "name": "stdout",
     "output_type": "stream",
     "text": [
      "Runtime Model Accuracy: 1.00\n",
      "Loaded Model Accuracy: 1.00\n"
     ]
    }
   ],
   "source": [
    "from sklearn.datasets import load_iris\n",
    "from sklearn.model_selection import train_test_split\n",
    "from sklearn.linear_model import LogisticRegression\n",
    "import pickle \n",
    "\n",
    "#load and split iris dataset\n",
    "iris = load_iris()\n",
    "X_train, X_test, y_train, y_test = train_test_split(iris.data, iris.target, test_size=0.2, random_state=42)\n",
    "\n",
    "# train a logistic regression model\n",
    "model = LogisticRegression(max_iter=200, random_state=42)\n",
    "model.fit(X_train, y_train)\n",
    "\n",
    "#make predictions\n",
    "prediction = model.predict(X_test)\n",
    "print(f\"Runtime Model Accuracy: {model.score(X_test, y_test):.2f}\")\n",
    "\n",
    "#save model\n",
    "with open(\"model.pkl\", \"wb\") as f:\n",
    "    pickle.dump(model, f)\n",
    "    \n",
    "#load model\n",
    "with open(\"model.pkl\", \"rb\") as f:\n",
    "    loaded_model = pickle.load(f)\n",
    "    \n",
    "#make predictions using loaded model\n",
    "prediction = loaded_model.predict(X_test)\n",
    "print(f\"Loaded Model Accuracy: {loaded_model.score(X_test, y_test):.2f}\")\n",
    "\n"
   ]
  },
  {
   "cell_type": "code",
   "execution_count": 2,
   "metadata": {},
   "outputs": [
    {
     "name": "stdout",
     "output_type": "stream",
     "text": [
      " * Serving Flask app '__main__'\n",
      " * Debug mode: off\n"
     ]
    },
    {
     "name": "stderr",
     "output_type": "stream",
     "text": [
      "WARNING: This is a development server. Do not use it in a production deployment. Use a production WSGI server instead.\n",
      " * Running on all addresses (0.0.0.0)\n",
      " * Running on http://127.0.0.1:8080\n",
      " * Running on http://192.168.1.5:8080\n",
      "Press CTRL+C to quit\n"
     ]
    }
   ],
   "source": [
    "from flask import Flask, request, jsonify\n",
    "import joblib\n",
    "import os \n",
    "\n",
    "app = Flask(__name__)\n",
    "\n",
    "model = joblib.load(\"model.pkl\")\n",
    "\n",
    "@app.route(\"/predict\", methods=[\"POST\"])\n",
    "def predict():\n",
    "    data = request.get_json(force=True)\n",
    "    prediction = model.predict([data['features']])\n",
    "    return jsonify({\"prediction\": int(prediction[0])})\n",
    "\n",
    "if __name__ == \"__main__\":\n",
    "    app.run(host=os.getenv('IP', '0.0.0.0'),\n",
    "            port=int(os.getenv('PORT', 8080)))"
   ]
  }
 ],
 "metadata": {
  "kernelspec": {
   "display_name": "env",
   "language": "python",
   "name": "python3"
  },
  "language_info": {
   "codemirror_mode": {
    "name": "ipython",
    "version": 3
   },
   "file_extension": ".py",
   "mimetype": "text/x-python",
   "name": "python",
   "nbconvert_exporter": "python",
   "pygments_lexer": "ipython3",
   "version": "3.12.4"
  }
 },
 "nbformat": 4,
 "nbformat_minor": 2
}
